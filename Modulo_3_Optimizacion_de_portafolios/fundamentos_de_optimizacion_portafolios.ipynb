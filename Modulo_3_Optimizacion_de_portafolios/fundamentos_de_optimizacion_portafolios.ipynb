introduccion a la teoria de portafolio, rendimientos, riesgos y minima varianza.
