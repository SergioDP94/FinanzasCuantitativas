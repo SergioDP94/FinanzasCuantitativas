{
  "nbformat": 4,
  "nbformat_minor": 0,
  "metadata": {
    "colab": {
      "provenance": [],
      "toc_visible": true
    },
    "kernelspec": {
      "name": "python3",
      "display_name": "Python 3"
    },
    "language_info": {
      "name": "python"
    }
  },
  "cells": [
    {
      "cell_type": "markdown",
      "source": [
        "# **Cálculo Financiero con Python**"
      ],
      "metadata": {
        "id": "Hkvn0xjfUg3f"
      }
    },
    {
      "cell_type": "markdown",
      "source": [
        "Autor: Sergio Diaz Paredes\n",
        "\n",
        "Contacto: [Linkedin](https://www.linkedin.com/in/sergio-diaz-paredes/)"
      ],
      "metadata": {
        "id": "Mr7udzQYVbLe"
      }
    },
    {
      "cell_type": "code",
      "source": [
        "pip install numpy_financial"
      ],
      "metadata": {
        "id": "DGd2rXmhvvgX"
      },
      "execution_count": null,
      "outputs": []
    },
    {
      "cell_type": "code",
      "source": [
        "import numpy_financial as npf\n",
        "import numpy as np"
      ],
      "metadata": {
        "id": "FV2tD7c3vsv3"
      },
      "execution_count": 26,
      "outputs": []
    },
    {
      "cell_type": "markdown",
      "source": [
        "# Interés compuesto"
      ],
      "metadata": {
        "id": "ewZ0AibE4Kk3"
      }
    },
    {
      "cell_type": "markdown",
      "source": [
        "El **interés compuesto** es un tipo de interés en el que los intereses generados en un período se suman al capital inicial, y en los períodos siguientes se calcula el interés sobre el nuevo saldo total (capital + intereses acumulados). La fórmula general para calcular el monto acumulado es:\n",
        "\n",
        "$$\n",
        "A = P \\times \\left(1 + \\frac{r}{n}\\right)^{n \\times t}\n",
        "$$\n",
        "\n",
        "Donde:\n",
        "- $A$ es el monto final.\n",
        "- $P$ es el capital inicial.\n",
        "- $r$ es la tasa de interés nominal anual.\n",
        "- $n$ es el número de períodos de capitalización por año.\n",
        "- $t$ es el número de años.\n",
        "\n",
        "Si el interés se capitaliza una vez por período, la fórmula se simplifica a:\n",
        "\n",
        "$$\n",
        "A = P \\times (1 + r)^t\n",
        "$$\n",
        "\n",
        "### Funciones en `numpy_financial`\n",
        "\n",
        "1. **`fv(rate, n, pmt, pv)`**: Calcula el **valor futuro** de una inversión con pagos periódicos, considerando el interés compuesto.\n",
        "   - **`rate`**: Tasa de interés por período.\n",
        "   - **`n`**: Número total de períodos.\n",
        "   - **`pmt`**: Pago periódico.\n",
        "   - **`pv`**: Valor presente o monto inicial.\n",
        "\n",
        "2. **`pv(rate, n, pmt, fv)`**: Calcula el **valor presente** de una inversión, dada la tasa de interés y los pagos futuros.\n",
        "   - **`rate`**: Tasa de interés por período.\n",
        "   - **`n`**: Número total de períodos.\n",
        "   - **`pmt`**: Pago periódico.\n",
        "   - **`fv`**: Valor futuro deseado.\n",
        "\n",
        "Ambas funciones se utilizan para calcular el impacto del interés compuesto en inversiones y préstamos, ya sea para encontrar el monto acumulado o la cantidad que se debe invertir hoy para alcanzar un objetivo futuro."
      ],
      "metadata": {
        "id": "IbX9J_wFaQYd"
      }
    },
    {
      "cell_type": "markdown",
      "source": [
        "## Pregunta 1"
      ],
      "metadata": {
        "id": "1gpuI8p6vo-H"
      }
    },
    {
      "cell_type": "markdown",
      "source": [
        "Calcule el monto de un capital inicial dé S/. 1 000 colocado\n",
        "durante 4 años a una tasa efectiva anual del 18%."
      ],
      "metadata": {
        "id": "jiC-MQPhvoJZ"
      }
    },
    {
      "cell_type": "code",
      "execution_count": 27,
      "metadata": {
        "colab": {
          "base_uri": "https://localhost:8080/"
        },
        "id": "9eDdqzgatqLC",
        "outputId": "4c987858-5461-472f-dd96-7c116a7894b4"
      },
      "outputs": [
        {
          "output_type": "stream",
          "name": "stdout",
          "text": [
            "El monto acumulado después de 4 años es: S/. 1938.78\n"
          ]
        }
      ],
      "source": [
        "rate = 0.18  # tasa efectiva anual\n",
        "nper = 4     # número de años\n",
        "pv = -1000   # valor presente (negativo porque es un desembolso inicial)\n",
        "\n",
        "# Calculamos el monto futuro usando numpy_financial\n",
        "FV = npf.fv(rate, nper, 0, pv)\n",
        "\n",
        "print(f\"El monto acumulado después de {nper} años es: S/. {FV:.2f}\")"
      ]
    },
    {
      "cell_type": "markdown",
      "source": [
        "## Pregunta 2"
      ],
      "metadata": {
        "id": "24Qz6aJXwgJM"
      }
    },
    {
      "cell_type": "markdown",
      "source": [
        "Calcule el monto de un depósito inicial de S/. 2 000 colocado durante 5 meses en un banco que paga una tasa efectiva mensual del 4%."
      ],
      "metadata": {
        "id": "IPyUxW0TwgJO"
      }
    },
    {
      "cell_type": "code",
      "execution_count": 28,
      "metadata": {
        "colab": {
          "base_uri": "https://localhost:8080/"
        },
        "outputId": "862cc845-bc26-43cf-a278-24075756c9ec",
        "id": "crqjff0XwgJP"
      },
      "outputs": [
        {
          "output_type": "stream",
          "name": "stdout",
          "text": [
            "El monto acumulado después de 5 meses es: S/. 2433.31\n"
          ]
        }
      ],
      "source": [
        "rate = 0.04  # tasa efectiva mensual\n",
        "nper = 5     # número de meses\n",
        "pv = -2000   # depósito inicial\n",
        "\n",
        "# Cálculo del monto futuro\n",
        "FV = npf.fv(rate, nper, 0, pv)\n",
        "\n",
        "print(f\"El monto acumulado después de {nper} meses es: S/. {FV:.2f}\")"
      ]
    },
    {
      "cell_type": "markdown",
      "source": [
        "## Pregunta 3"
      ],
      "metadata": {
        "id": "JkH9EonPwg54"
      }
    },
    {
      "cell_type": "markdown",
      "source": [
        "Un banco paga por los depósitos que recibe del público una tasa nominal mensual del 3% con capitalización trimestral. ¿Qué monto se habrá\n",
        "acumulado con un capital inicial de S/, 3 000 colocado durante 6 meses?"
      ],
      "metadata": {
        "id": "sZO3vXhvwg54"
      }
    },
    {
      "cell_type": "code",
      "execution_count": 29,
      "metadata": {
        "colab": {
          "base_uri": "https://localhost:8080/"
        },
        "outputId": "73bff116-adbe-4e0b-9688-fc816a6a4898",
        "id": "JsevLrr1wg55"
      },
      "outputs": [
        {
          "output_type": "stream",
          "name": "stdout",
          "text": [
            "El monto acumulado después de 6 meses es: S/. 3564.30\n"
          ]
        }
      ],
      "source": [
        "rate_monthly = 0.03  # tasa nominal mensual\n",
        "nper = 2             # número de trimestres (6 meses)\n",
        "pv = -3000           # valor presente (capital inicial)\n",
        "\n",
        "# Convertimos la tasa nominal mensual a tasa efectiva trimestral\n",
        "rate_quarterly = rate_monthly*3\n",
        "\n",
        "# Calculamos el monto futuro usando numpy_financial\n",
        "FV = npf.fv(rate_quarterly, nper, 0, pv)\n",
        "\n",
        "print(f\"El monto acumulado después de 6 meses es: S/. {FV:.2f}\")"
      ]
    },
    {
      "cell_type": "markdown",
      "source": [
        "## Pregunta 4"
      ],
      "metadata": {
        "id": "7DGeRtqHwhEc"
      }
    },
    {
      "cell_type": "markdown",
      "source": [
        "Consideremos un capital de S/. 1 000 depositado en un banco\n",
        "donde gana una tasa efectiva anual del 10%. ¿Qué monto tendrá que pagarse\n",
        "si el depósito se cancela al finalizar el primer semestre?"
      ],
      "metadata": {
        "id": "cmZDgFoFwhEd"
      }
    },
    {
      "cell_type": "code",
      "execution_count": 30,
      "metadata": {
        "colab": {
          "base_uri": "https://localhost:8080/"
        },
        "outputId": "c64a401e-648b-433c-ec50-4d6fa5dfe4ec",
        "id": "k59zRiprwhEe"
      },
      "outputs": [
        {
          "output_type": "stream",
          "name": "stdout",
          "text": [
            "El monto acumulado después de 6 meses es: S/. 1048.81\n"
          ]
        }
      ],
      "source": [
        "PV = -1000       # capital inicial (negativo porque es un desembolso)\n",
        "rate = 0.10      # tasa efectiva anual\n",
        "nper = 0.5       # medio año (6 meses)\n",
        "\n",
        "# Cálculo del monto futuro\n",
        "FV = npf.fv(rate, nper, 0, PV)\n",
        "\n",
        "print(f\"El monto acumulado después de 6 meses es: S/. {FV:.2f}\")"
      ]
    },
    {
      "cell_type": "markdown",
      "source": [
        "## Pregunta 5"
      ],
      "metadata": {
        "id": "vyQbmYdYwhIi"
      }
    },
    {
      "cell_type": "markdown",
      "source": [
        "Una persona solicita a un banco un préstamo de S/. 2 000, el\n",
        "mismo que se le abona en su cuenta corriente el 26 de mayo. ¿Qué monto\n",
        "deberá pagar el 24 de julio, fecha que cancela el préstamo, si el banco cobra\n",
        "una tasa efectiva mensual del 5%?"
      ],
      "metadata": {
        "id": "5SY6zrdpwhIi"
      }
    },
    {
      "cell_type": "code",
      "execution_count": 31,
      "metadata": {
        "colab": {
          "base_uri": "https://localhost:8080/"
        },
        "outputId": "964c08a2-c54c-4e03-d831-4400811c57d3",
        "id": "snQYxhZEwhIj"
      },
      "outputs": [
        {
          "output_type": "stream",
          "name": "stdout",
          "text": [
            "El monto a pagar el 24 de julio es: S/. 2201.42\n"
          ]
        }
      ],
      "source": [
        "PV = -2000    # préstamo (negativo porque es un desembolso)\n",
        "rate = 0.05   # tasa efectiva mensual\n",
        "nper = 59/30  # número de meses  = (dias/30)\n",
        "\n",
        "# Cálculo del monto futuro\n",
        "FV = npf.fv(rate, nper, 0, PV)\n",
        "\n",
        "print(f\"El monto a pagar el 24 de julio es: S/. {FV:.2f}\")"
      ]
    },
    {
      "cell_type": "markdown",
      "source": [
        "## Pregunta 6"
      ],
      "metadata": {
        "id": "wV4-ppmWwhLi"
      }
    },
    {
      "cell_type": "markdown",
      "source": [
        "¿Qué monto deberá pagarse por un sobregiro bancario de S/. 2 000\n",
        "vigente desde el 24 al 30 de junio, si el banco cobra una tasa efectiva mensual\n",
        "del 5%?"
      ],
      "metadata": {
        "id": "6XotphgqwhLi"
      }
    },
    {
      "cell_type": "code",
      "execution_count": 32,
      "metadata": {
        "colab": {
          "base_uri": "https://localhost:8080/"
        },
        "outputId": "f5888ab6-32d1-4ee0-8eee-af502dca79b3",
        "id": "y-kzGIVuwhLj"
      },
      "outputs": [
        {
          "output_type": "stream",
          "name": "stdout",
          "text": [
            "El monto a pagar por el sobregiro es: S/. 2019.61\n"
          ]
        }
      ],
      "source": [
        "PV = -2000      # sobregiro (negativo porque es un desembolso)\n",
        "rate = 0.05     # tasa efectiva mensual\n",
        "t = 6 / 30      # 6 días convertidos a meses\n",
        "\n",
        "# Cálculo del monto futuro\n",
        "FV = npf.fv(rate, t, 0, PV)\n",
        "\n",
        "print(f\"El monto a pagar por el sobregiro es: S/. {FV:.2f}\")"
      ]
    },
    {
      "cell_type": "markdown",
      "source": [
        "## Pregunta 7"
      ],
      "metadata": {
        "id": "78U7LUYbwhOx"
      }
    },
    {
      "cell_type": "markdown",
      "source": [
        "Calcular el monto a pagar dentro de 4 meses por un préstamo\n",
        "bancario de S/. 8 000 a una tasa nominal anual del 36% capitalizable\n",
        "mensuálmente.\n"
      ],
      "metadata": {
        "id": "lWVJlbujwhOy"
      }
    },
    {
      "cell_type": "code",
      "execution_count": 33,
      "metadata": {
        "colab": {
          "base_uri": "https://localhost:8080/"
        },
        "outputId": "424d06ea-937a-4c9c-98a1-2ab23b5be762",
        "id": "ywAlmX0SwhOy"
      },
      "outputs": [
        {
          "output_type": "stream",
          "name": "stdout",
          "text": [
            "El monto a pagar después de 4 meses es: S/. 9004.07\n"
          ]
        }
      ],
      "source": [
        "PV = -8000           # préstamo (negativo porque es un desembolso)\n",
        "r_nominal_annual = 0.36  # tasa nominal anual\n",
        "t = 4                # número de meses\n",
        "\n",
        "# Convertir la tasa nominal anual a tasa efectiva mensual\n",
        "r_effective_monthly = (1 + r_nominal_annual / 12) - 1\n",
        "\n",
        "# Cálculo del monto futuro usando numpy_financial\n",
        "FV = npf.fv(r_effective_monthly, t, 0, PV)\n",
        "\n",
        "print(f\"El monto a pagar después de 4 meses es: S/. {FV:.2f}\")"
      ]
    },
    {
      "cell_type": "markdown",
      "source": [
        "## Pregunta 8"
      ],
      "metadata": {
        "id": "NiGgGeJ3whRY"
      }
    },
    {
      "cell_type": "markdown",
      "source": [
        "La empresa Audio S.A. compró en el Banco Látex un Certificado\n",
        "de Depósito a Plazo (CDP) por el importe de S/. 5 000 a un año de\n",
        "vencimiento, ganando una tasa nominal anual del 36% con capitalización\n",
        "trimestral, el cual tuvo que redimirlo al fin del octavo mes. ¿Cuál fue el monto\n",
        "que originó dicha inversión?"
      ],
      "metadata": {
        "id": "1HkwlUg7whRY"
      }
    },
    {
      "cell_type": "code",
      "execution_count": 34,
      "metadata": {
        "colab": {
          "base_uri": "https://localhost:8080/"
        },
        "outputId": "cd916623-7376-4f98-a0b2-50d0a486158b",
        "id": "76XUaw9-whRY"
      },
      "outputs": [
        {
          "output_type": "stream",
          "name": "stdout",
          "text": [
            "El monto acumulado después de 8 meses es: S/. 6291.79\n"
          ]
        }
      ],
      "source": [
        "PV = -5000  # capital invertido (negativo porque es un desembolso)\n",
        "r_nominal_annual = 0.36  # tasa nominal anual\n",
        "months = 8  # duración en meses\n",
        "\n",
        "# Convertir la tasa nominal anual a tasa efectiva trimestral\n",
        "r_effective_quarterly = (1 + r_nominal_annual / 4) - 1\n",
        "\n",
        "# Número de trimestres transcurridos\n",
        "t = months / 3\n",
        "\n",
        "# Cálculo del monto futuro usando numpy_financial\n",
        "FV = npf.fv(r_effective_quarterly, t, 0, PV)\n",
        "\n",
        "print(f\"El monto acumulado después de 8 meses es: S/. {FV:.2f}\")"
      ]
    },
    {
      "cell_type": "markdown",
      "source": [
        "## Pregunta 9"
      ],
      "metadata": {
        "id": "7RgMfSTGwhUP"
      }
    },
    {
      "cell_type": "markdown",
      "source": [
        "Calcule el monto de un capital de S/. 1 000 colocado durante tres\n",
        "meses. La tasa efectiva mensual pactada es del 3%, 4% y 5% para el primer,\n",
        "segundo y tercer mes respectivamente."
      ],
      "metadata": {
        "id": "qxoeKzKKwhUQ"
      }
    },
    {
      "cell_type": "code",
      "execution_count": 35,
      "metadata": {
        "colab": {
          "base_uri": "https://localhost:8080/"
        },
        "outputId": "4eb53f6a-131a-4bba-e532-70c361de54fa",
        "id": "T_YztDqmwhUQ"
      },
      "outputs": [
        {
          "output_type": "stream",
          "name": "stdout",
          "text": [
            "El monto acumulado después de 3 meses es: S/. 1124.76\n"
          ]
        }
      ],
      "source": [
        "PV = -1000  # capital inicial (negativo porque es un desembolso)\n",
        "rates = [0.03, 0.04, 0.05]  # tasas efectivas mensuales para cada mes\n",
        "\n",
        "# Aplicar la fórmula para cada mes\n",
        "FV = PV\n",
        "for rate in rates:\n",
        "    FV = npf.fv(rate, 1, 0, FV)  # Calculamos el valor futuro mes a mes\n",
        "\n",
        "print(f\"El monto acumulado después de 3 meses es: S/. {FV:.2f}\")"
      ]
    },
    {
      "cell_type": "markdown",
      "source": [
        "## Pregunta 10"
      ],
      "metadata": {
        "id": "TRNfjPS7whXK"
      }
    },
    {
      "cell_type": "markdown",
      "source": [
        "Una empresa solicitó a un banco un préstamo de S/. 8 000\n",
        "cancelable dentro de 6 meses a una tasa nominal anual del 36% con\n",
        "capitalización trimestral. La tasa es variable de acuerdo a las condiciones del\n",
        "mercado. En la fecha de vencimiento del contrato de crédito se conocen las\n",
        "siguientes variaciones de tasas anuales: 36% durante los dos primeros meses\n",
        "y 48% para el resto del período, ambas capitalizabas trimestralmente. ¿Qué\n",
        "monto deberá cancelar al vencimiento?"
      ],
      "metadata": {
        "id": "Lsu4bZ6cwhXL"
      }
    },
    {
      "cell_type": "code",
      "execution_count": 36,
      "metadata": {
        "colab": {
          "base_uri": "https://localhost:8080/"
        },
        "outputId": "b8c0fbb9-683a-4f4e-f09d-2e2155f31d7e",
        "id": "-eAzAvwkwhXL"
      },
      "outputs": [
        {
          "output_type": "stream",
          "name": "stdout",
          "text": [
            "El monto a cancelar al vencimiento es: S/. 9855.19\n"
          ]
        }
      ],
      "source": [
        "PV = -8000  # préstamo (negativo porque es un desembolso)\n",
        "rate_36 = 0.09  # tasa efectiva trimestral para los primeros 2 meses (36% nominal)\n",
        "rate_48 = 0.12  # tasa efectiva trimestral para los últimos 4 meses (48% nominal)\n",
        "\n",
        "# Calculamos el monto acumulado durante el primer trimestre (36% nominal)\n",
        "FV_36 = npf.fv(rate_36, 2/3, 0, PV)\n",
        "\n",
        "# Luego, calculamos el monto acumulado durante el segundo trimestre (48% nominal)\n",
        "FV_final = npf.fv(rate_48, 4/3, 0, -FV_36)\n",
        "\n",
        "print(f\"El monto a cancelar al vencimiento es: S/. {FV_final:.2f}\")"
      ]
    },
    {
      "cell_type": "code",
      "source": [
        "#Calculando manualmente corroboramos el resultado que difiere del libro\n",
        "8000*(1+0.36/4)**(2/3)*(1+0.48/4)**(4/3)"
      ],
      "metadata": {
        "colab": {
          "base_uri": "https://localhost:8080/"
        },
        "id": "LwEYTm1Qz1jI",
        "outputId": "995f6d37-cc71-4cfd-ecdd-ac790412fc97"
      },
      "execution_count": 37,
      "outputs": [
        {
          "output_type": "execute_result",
          "data": {
            "text/plain": [
              "9855.190324671163"
            ]
          },
          "metadata": {},
          "execution_count": 37
        }
      ]
    },
    {
      "cell_type": "markdown",
      "source": [
        "## Pregunta 12"
      ],
      "metadata": {
        "id": "ptIgIBzlwhZ_"
      }
    },
    {
      "cell_type": "markdown",
      "source": [
        "El 6 de abril la empresa Pert descontó en el Banco Mercante un\n",
        "pagaré cuyo valor nominal fue de S/. 8 000 y su vencimiento el 5 de junio.\n",
        "Calcule el importe abonado por el banco a Pert, considerando una tasa nominal\n",
        "del 36% anual con capitalización mensual."
      ],
      "metadata": {
        "id": "EVEUAMBxwhZ_"
      }
    },
    {
      "cell_type": "code",
      "execution_count": 38,
      "metadata": {
        "colab": {
          "base_uri": "https://localhost:8080/"
        },
        "outputId": "4f4a3e89-1a15-4c87-d179-69d129a3b3d3",
        "id": "vT4q2yhcwhaA"
      },
      "outputs": [
        {
          "output_type": "stream",
          "name": "stdout",
          "text": [
            "El importe abonado por el banco a Pert es: S/. 7540.77\n"
          ]
        }
      ],
      "source": [
        "FV = 8000  # Valor nominal del pagaré\n",
        "rate_nominal_annual = 0.36  # Tasa nominal anual\n",
        "n = 12  # Capitalización mensual\n",
        "months = 2  # Período de descuento (de abril 6 a junio 5)\n",
        "\n",
        "# Calcular la tasa mensual\n",
        "rate_monthly = rate_nominal_annual / n\n",
        "\n",
        "# Calcular el valor presente usando numpy_financial\n",
        "PV = npf.pv(rate_monthly, months, 0, FV)\n",
        "\n",
        "print(f\"El importe abonado por el banco a Pert es: S/. {abs(PV):.2f}\")"
      ]
    },
    {
      "cell_type": "markdown",
      "source": [
        "## Pregunta 13"
      ],
      "metadata": {
        "id": "CJOaDgCxwhdH"
      }
    },
    {
      "cell_type": "markdown",
      "source": [
        "Faltando 28 días para su vencimiento uña letra de S/. 6 000 es descontada en un banco a una tasa nominal anual del 48% con capitalización mensual. ¿Qué importe recibió el descontante?"
      ],
      "metadata": {
        "id": "Tvnii4iGwhdI"
      }
    },
    {
      "cell_type": "code",
      "execution_count": 39,
      "metadata": {
        "colab": {
          "base_uri": "https://localhost:8080/"
        },
        "outputId": "03a11682-ed81-49ac-d741-97249e085ba4",
        "id": "e97ttiezwhdJ"
      },
      "outputs": [
        {
          "output_type": "stream",
          "name": "stdout",
          "text": [
            "El importe recibido por el descontante es: S/. 5784.34\n"
          ]
        }
      ],
      "source": [
        "FV = 6000  # Valor nominal de la letra\n",
        "rate_nominal_annual = 0.48  # Tasa nominal anual (48%)\n",
        "n = 12  # Capitalización mensual\n",
        "days = 28  # Días faltantes para el vencimiento\n",
        "\n",
        "# Calcular el tiempo en años (t) a partir de los días\n",
        "t = days / 30\n",
        "\n",
        "# Calcular la tasa mensual\n",
        "rate_monthly = rate_nominal_annual / n\n",
        "\n",
        "# Calcular el valor presente usando npf.pv\n",
        "PV = npf.pv(rate_monthly, t, 0, FV)\n",
        "\n",
        "# Mostrar el importe recibido por el descontante (valor presente)\n",
        "print(f\"El importe recibido por el descontante es: S/. {abs(PV):.2f}\")"
      ]
    },
    {
      "cell_type": "markdown",
      "source": [
        "# Anualidades vencidas"
      ],
      "metadata": {
        "id": "zv140czg4Pun"
      }
    },
    {
      "cell_type": "markdown",
      "source": [
        "Una **anualidad vencida** es una serie de pagos iguales que se realizan al final de cada período. En este tipo de anualidad, el primer pago se realiza al final del primer período, y los pagos continúan hasta el final del último período.\n",
        "\n",
        "La fórmula para calcular el **valor presente** ($PV$) de una anualidad vencida es:\n",
        "\n",
        "$$\n",
        "PV = PMT \\times \\frac{1 - (1 + r)^{-n}}{r}\n",
        "$$\n",
        "\n",
        "Donde:\n",
        "- $PV$ es el valor presente de la anualidad.\n",
        "- $PMT$ es el pago periódico.\n",
        "- $r$ es la tasa de interés por período.\n",
        "- $n$ es el número total de períodos.\n",
        "\n",
        "La fórmula para calcular el **valor futuro** ($FV$) de una anualidad vencida es:\n",
        "\n",
        "$$\n",
        "FV = PMT \\times \\frac{(1 + r)^n - 1}{r}\n",
        "$$\n",
        "\n",
        "Donde:\n",
        "- $FV$ es el valor futuro de la anualidad.\n",
        "- $PMT$ es el pago periódico.\n",
        "- $r$ es la tasa de interés por período.\n",
        "- $n$ es el número total de períodos.\n",
        "\n",
        "### Funciones en `numpy_financial`\n",
        "\n",
        "1. **`pv(rate, n, pmt, fv)`**: Calcula el valor presente de una anualidad vencida, considerando pagos periódicos al final de cada período.\n",
        "   - **`rate`**: Tasa de interés por período.\n",
        "   - **`n`**: Número total de períodos.\n",
        "   - **`pmt`**: Pago periódico.\n",
        "   - **`fv`**: Valor futuro deseado (opcional, puede ser 0 si no se espera un valor futuro).\n",
        "\n",
        "2. **`fv(rate, n, pmt, pv)`**: Calcula el valor futuro de una anualidad vencida, considerando pagos periódicos realizados al final de cada período.\n",
        "   - **`rate`**: Tasa de interés por período.\n",
        "   - **`n`**: Número total de períodos.\n",
        "   - **`pmt`**: Pago periódico.\n",
        "   - **`pv`**: Valor presente de la inversión.\n",
        "\n",
        "Estas funciones son útiles para calcular el monto que se acumula o el valor presente de una serie de pagos realizados al final de cada período, como en el caso de préstamos o inversiones con pagos periódicos."
      ],
      "metadata": {
        "id": "hhIaKzb6a1EN"
      }
    },
    {
      "cell_type": "markdown",
      "source": [
        "## Pregunta 1"
      ],
      "metadata": {
        "id": "RdJ8yfVD4XWP"
      }
    },
    {
      "cell_type": "markdown",
      "source": [
        "Si un trabajador ha cotizado a una Administradora de Fondos de\n",
        "Pensiones (AFP) el equivalente de $ 360 anual, durante sus últimos cinco años\n",
        "de actividad laboral dependiente, ¿qué importe habrá acumulado en ese período\n",
        "si percibió una TEA del 10%?"
      ],
      "metadata": {
        "id": "p55E4xSn48tH"
      }
    },
    {
      "cell_type": "code",
      "source": [
        "P = 360  # Cotización anual\n",
        "rate = 0.10  # Tasa de interés efectiva anual\n",
        "years = 5  # Período de cotización (5 años)\n",
        "\n",
        "# Usamos la fórmula de FV para cada cotización anual\n",
        "M = npf.fv(rate, years, -P, 0)  # La cotización se toma como negativo para representar un pago\n",
        "\n",
        "# Mostrar el monto acumulado\n",
        "print(f\"El monto acumulado en la AFP es: $ {M:.2f}\")"
      ],
      "metadata": {
        "colab": {
          "base_uri": "https://localhost:8080/"
        },
        "id": "wFRGFwx94Yx3",
        "outputId": "6d6e5857-7a18-4c9a-e855-007849645ded"
      },
      "execution_count": 40,
      "outputs": [
        {
          "output_type": "stream",
          "name": "stdout",
          "text": [
            "El monto acumulado en la AFP es: $ 2197.84\n"
          ]
        }
      ]
    },
    {
      "cell_type": "markdown",
      "source": [
        "## Pregunta 2"
      ],
      "metadata": {
        "id": "NVtrT5e14ZWs"
      }
    },
    {
      "cell_type": "markdown",
      "source": [
        "¿Qué monto se acumulará en una cuenta de ahorros, si a fin de\n",
        "mes y durante 4 meses consecutivos se depositó S/. 100 por los cuales se\n",
        "percibe una TNA del 24% capitalizable mensualmente?\n"
      ],
      "metadata": {
        "id": "4HyBZ6GF5eeX"
      }
    },
    {
      "cell_type": "code",
      "source": [
        "P = 100  # Depósito mensual\n",
        "rate_nominal_annual = 0.24  # Tasa nominal anual\n",
        "n_months = 4  # Número de meses\n",
        "\n",
        "# Calcular la tasa de interés mensual\n",
        "rate_monthly = rate_nominal_annual / 12\n",
        "\n",
        "# Usar la fórmula de valor futuro de una anualidad ordinaria\n",
        "FV = npf.fv(rate_monthly, n_months, -P, 0)\n",
        "\n",
        "# Mostrar el monto acumulado\n",
        "print(f\"El monto acumulado en la cuenta de ahorros es: S/. {FV:.2f}\")"
      ],
      "metadata": {
        "colab": {
          "base_uri": "https://localhost:8080/"
        },
        "id": "InTCl4754ZWt",
        "outputId": "fae98e21-4605-46e9-c7e0-2c44f8d0dd54"
      },
      "execution_count": 41,
      "outputs": [
        {
          "output_type": "stream",
          "name": "stdout",
          "text": [
            "El monto acumulado en la cuenta de ahorros es: S/. 412.16\n"
          ]
        }
      ]
    },
    {
      "cell_type": "markdown",
      "source": [
        "## Pregunta 3"
      ],
      "metadata": {
        "id": "IZRtUbac4ZtQ"
      }
    },
    {
      "cell_type": "markdown",
      "source": [
        "Calcule el valor presente de los 5 flujos anuales de $ 360 c/u del\n",
        "ejemplo 1 aplicando una TEA del 10%."
      ],
      "metadata": {
        "id": "ZbByqtYh5n_m"
      }
    },
    {
      "cell_type": "code",
      "source": [
        "P = 360  # Monto de cada flujo anual\n",
        "rate = 0.10  # Tasa efectiva anual\n",
        "n = 5  # Número de flujos (años)\n",
        "\n",
        "# Calcular el valor presente de los 5 pagos utilizando npf.pv\n",
        "PV = npf.pv(rate, n, -P, 0)  # El valor de P es negativo porque es un pago\n",
        "\n",
        "# Mostrar el valor presente total\n",
        "print(f\"El valor presente de los 5 flujos anuales de $360 es: $ {abs(PV):.2f}\")"
      ],
      "metadata": {
        "colab": {
          "base_uri": "https://localhost:8080/"
        },
        "id": "--XuybXQ4ZtR",
        "outputId": "8d872f80-cadf-49c5-cd85-ee16e66b985a"
      },
      "execution_count": 42,
      "outputs": [
        {
          "output_type": "stream",
          "name": "stdout",
          "text": [
            "El valor presente de los 5 flujos anuales de $360 es: $ 1364.68\n"
          ]
        }
      ]
    },
    {
      "cell_type": "markdown",
      "source": [
        "## Pregunta 4"
      ],
      "metadata": {
        "id": "m-nmpgGF4ZxE"
      }
    },
    {
      "cell_type": "markdown",
      "source": [
        "Actualmente, la empresa Sara S.A. decide cancelar las 4 últimas\n",
        "cuotas fijas insolutas de un préstamo contraído con una entidad financiera,\n",
        "ascendente cada una a S/. 500; las mismas que vencerán dentro de 30, 60, 90\n",
        "y 120, días respectivamente.' ¿Qué importe deberá cancelar hoy si la TEM es\n",
        "del 5%?\n"
      ],
      "metadata": {
        "id": "x833aBXAT9H9"
      }
    },
    {
      "cell_type": "code",
      "source": [
        "cuota = 500  # Valor de cada cuota\n",
        "rate = 0.05  # Tasa efectiva mensual (TEM)\n",
        "n_periodos = [1, 2, 3, 4]  # Períodos en meses (30, 60, 90, 120 días)\n",
        "\n",
        "# Calcular el valor presente de cada cuota y sumarlos\n",
        "PV_total = sum([npf.pv(rate, n, 0, -cuota) for n in n_periodos])\n",
        "\n",
        "# Mostrar el resultado\n",
        "print(f\"El importe total que debe cancelar hoy es: S/. {abs(PV_total):.2f}\")\n"
      ],
      "metadata": {
        "colab": {
          "base_uri": "https://localhost:8080/"
        },
        "id": "1kUTScqB4ZxF",
        "outputId": "97d464d1-d59d-4bd2-c1b6-1eaa2f59c68a"
      },
      "execution_count": 43,
      "outputs": [
        {
          "output_type": "stream",
          "name": "stdout",
          "text": [
            "El importe total que debe cancelar hoy es: S/. 1772.98\n"
          ]
        }
      ]
    },
    {
      "cell_type": "markdown",
      "source": [
        "## Pregunta 5"
      ],
      "metadata": {
        "id": "Q70H_w5n4Z0G"
      }
    },
    {
      "cell_type": "markdown",
      "source": [
        "Una empresa ha decidido adquirir dentro de 4 meses un grupo electrógeno cuyo precio estima en S/. 5 000. ¿Qué importe constante de fin de mes, debe ahorrar en ese período de tiempo, en un banco que paga una TNA del 36% con capitalización mensual, a fin de disponer ese monto al\n",
        "vencimiento de dicho plazo?"
      ],
      "metadata": {
        "id": "9U-9bZr4UELc"
      }
    },
    {
      "cell_type": "code",
      "source": [
        "FV = 5000  # Monto objetivo\n",
        "rate = 0.03  # Tasa efectiva mensual\n",
        "n_periodos = 4  # Número de meses\n",
        "\n",
        "# Calcular el importe constante (P) usando la función npf.pmt\n",
        "P = npf.pmt(rate, n_periodos, 0, -FV)\n",
        "\n",
        "# Mostrar el resultado\n",
        "print(f\"El importe constante que debe ahorrar al final de cada mes es: S/. {P:.2f}\")\n"
      ],
      "metadata": {
        "colab": {
          "base_uri": "https://localhost:8080/"
        },
        "id": "xeCtCCR64Z0G",
        "outputId": "54cd14a4-7660-4ed6-86e0-5f5b74d5fd2f"
      },
      "execution_count": 44,
      "outputs": [
        {
          "output_type": "stream",
          "name": "stdout",
          "text": [
            "El importe constante que debe ahorrar al final de cada mes es: S/. 1195.14\n"
          ]
        }
      ]
    },
    {
      "cell_type": "markdown",
      "source": [
        "## Pregunta 6"
      ],
      "metadata": {
        "id": "89jCfDoB4Z2_"
      }
    },
    {
      "cell_type": "markdown",
      "source": [
        " ¿Cuál será la cuota constante a pagar por un préstamo bancario de S/. 8 000, reembolsable en 4 cuotas cada fin de mes? El banco cobra una TNA del 36% con capitalización mensual."
      ],
      "metadata": {
        "id": "utCs_uXxUeZ9"
      }
    },
    {
      "cell_type": "code",
      "source": [
        "PV = 8000  # Monto del préstamo\n",
        "rate = 0.03  # Tasa efectiva mensual\n",
        "n_periodos = 4  # Número de cuotas\n",
        "\n",
        "# Calcular la cuota constante\n",
        "P = npf.pmt(rate, n_periodos, -PV, 0)  # El monto del préstamo es negativo porque es un ingreso\n",
        "\n",
        "# Mostrar el resultado\n",
        "print(f\"La cuota constante a pagar es: S/. {P:.2f}\")"
      ],
      "metadata": {
        "colab": {
          "base_uri": "https://localhost:8080/"
        },
        "id": "DhXqiy9f4Z2_",
        "outputId": "7eec7199-73ed-430d-cb22-4f3babe98af3"
      },
      "execution_count": 45,
      "outputs": [
        {
          "output_type": "stream",
          "name": "stdout",
          "text": [
            "La cuota constante a pagar es: S/. 2152.22\n"
          ]
        }
      ]
    },
    {
      "cell_type": "markdown",
      "source": [
        "## Pregunta 7"
      ],
      "metadata": {
        "id": "gfJxEutp4Z5-"
      }
    },
    {
      "cell_type": "markdown",
      "source": [
        "¿Cuántos depósitos de fin de mes de S/. 500 serán necesarios ahorrar, para acumular un monto de S/. 5 474,86 en un banco que paga una TNA del 24% con capitalización mensual?\n"
      ],
      "metadata": {
        "id": "E5QWjl7nUxEn"
      }
    },
    {
      "cell_type": "code",
      "source": [
        "FV = 5474.86  # Monto objetivo\n",
        "P = 500  # Depósito mensual\n",
        "rate = 0.02  # Tasa efectiva mensual\n",
        "\n",
        "# Calcular el número de depósitos (n)\n",
        "n = np.log((FV * rate / P) + 1) / np.log(1 + rate)\n",
        "\n",
        "# Mostrar el resultado redondeado al entero más próximo\n",
        "print(f\"El número de depósitos necesarios es: {np.ceil(n):.0f}\")"
      ],
      "metadata": {
        "colab": {
          "base_uri": "https://localhost:8080/"
        },
        "id": "atmHDLV_4Z5-",
        "outputId": "b24f453c-8937-4601-d516-0c2ebbd57daf"
      },
      "execution_count": 46,
      "outputs": [
        {
          "output_type": "stream",
          "name": "stdout",
          "text": [
            "El número de depósitos necesarios es: 10\n"
          ]
        }
      ]
    },
    {
      "cell_type": "markdown",
      "source": [
        "## Pregunta 8"
      ],
      "metadata": {
        "id": "vPWhKa0M4Z9G"
      }
    },
    {
      "cell_type": "markdown",
      "source": [
        "¿Con cuántas cuotas constantes trimestrales vencidas de S/. 500 se\n",
        "podrá amortizar un préstamo de S/. 5 000, por el cual se paga una TET del\n",
        "6,1208%?\n"
      ],
      "metadata": {
        "id": "-hlHhXfgVgG1"
      }
    },
    {
      "cell_type": "code",
      "source": [
        "PV = 5000  # Monto del préstamo\n",
        "P = 500  # Cuota constante\n",
        "rate = 0.061208  # Tasa efectiva trimestral\n",
        "\n",
        "# Calcular el número de cuotas necesarias (n)\n",
        "n = np.log(P / (P - PV * rate)) / np.log(1 + rate)\n",
        "\n",
        "# Mostrar el resultado redondeado al entero más próximo\n",
        "print(f\"El número de cuotas necesarias es: {np.ceil(n):.0f}\")"
      ],
      "metadata": {
        "colab": {
          "base_uri": "https://localhost:8080/"
        },
        "id": "tuFwLeTw4Z9G",
        "outputId": "f63b9136-6b42-4f9c-e44f-41b5737e5541"
      },
      "execution_count": 47,
      "outputs": [
        {
          "output_type": "stream",
          "name": "stdout",
          "text": [
            "El número de cuotas necesarias es: 16\n"
          ]
        }
      ]
    },
    {
      "cell_type": "markdown",
      "source": [
        "## Pregunta 9"
      ],
      "metadata": {
        "id": "xkq1jqEQ4aAO"
      }
    },
    {
      "cell_type": "markdown",
      "source": [
        "Un artefacto electrodoméstico tiene un precio de contado de `$ 1 500` y al crédito se ofrece con una cuota inicial de `$ 300` y 12 cuotas uniformes de `$ 130` c/u pagaderas cada fin de mes. ¿Cuál es la TEM cargada en el financiamiento?"
      ],
      "metadata": {
        "id": "zQBTwVL6SHin"
      }
    },
    {
      "cell_type": "code",
      "source": [
        "precio_contado = 1500  # Precio de contado\n",
        "cuota_inicial = 300  # Cuota inicial\n",
        "cuota = 130  # Cuota uniforme\n",
        "n_cuotas = 12  # Número de cuotas\n",
        "\n",
        "# Valor presente de las cuotas financiadas\n",
        "PV_financiado = precio_contado - cuota_inicial\n",
        "\n",
        "# Calcular la TEM\n",
        "TEM = npf.rate(n_cuotas, -cuota, PV_financiado, 0)\n",
        "\n",
        "# Mostrar el resultado en porcentaje\n",
        "print(f\"La TEM cargada en el financiamiento es: {TEM * 100:.2f}%\")"
      ],
      "metadata": {
        "colab": {
          "base_uri": "https://localhost:8080/"
        },
        "id": "vKtzU6Rv4aAO",
        "outputId": "5e7e8334-9a9a-4d6e-e243-dc90e9cd6122"
      },
      "execution_count": 48,
      "outputs": [
        {
          "output_type": "stream",
          "name": "stdout",
          "text": [
            "La TEM cargada en el financiamiento es: 4.29%\n"
          ]
        }
      ]
    },
    {
      "cell_type": "markdown",
      "source": [
        "# Valos Presente Neto (VAN)"
      ],
      "metadata": {
        "id": "8Bo1rbpiYYy2"
      }
    },
    {
      "cell_type": "markdown",
      "source": [
        "El **Valor Actual Neto (VAN)** es una técnica utilizada para evaluar la rentabilidad de un proyecto o inversión. Consiste en descontar todos los flujos de efectivo futuros esperados (ingresos y egresos) a su valor presente, utilizando una tasa de descuento (generalmente la tasa de rendimiento requerida o tasa de interés del mercado).\n",
        "\n",
        "La fórmula general para calcular el VAN es:\n",
        "\n",
        "$$\n",
        "VAN = \\sum_{t=0}^{n} \\frac{C_t}{(1 + r)^t}\n",
        "$$\n",
        "\n",
        "Donde:\n",
        "- $VAN$ es el valor actual neto.\n",
        "- $C_t$ son los flujos de efectivo en el tiempo $t$ (pueden ser positivos o negativos).\n",
        "- $r$ es la tasa de descuento o tasa de interés.\n",
        "- $n$ es el número total de períodos.\n",
        "\n",
        "El VAN se interpreta de la siguiente manera:\n",
        "- **VAN > 0**: El proyecto o inversión es rentable.\n",
        "- **VAN = 0**: El proyecto o inversión no genera ganancia ni pérdida.\n",
        "- **VAN < 0**: El proyecto o inversión no es rentable.\n",
        "\n",
        "### Funciones en `numpy_financial`\n",
        "\n",
        "En **`numpy_financial`**, la función que se utiliza para calcular el VAN es **`npv(rate, values)`**, que se puede utilizar para evaluar el valor presente neto de una serie de flujos de efectivo, descontados a una tasa específica.\n",
        "\n",
        "#### **`npv(rate, values)`**:\n",
        "\n",
        "Esta función calcula el **Valor Actual Neto (VAN)** de una serie de flujos de efectivo, usando una tasa de descuento proporcionada.\n",
        "\n",
        "- **`rate`**: La tasa de descuento o tasa de interés.\n",
        "- **`values`**: Una lista o arreglo de flujos de efectivo, donde el primer valor corresponde al flujo de efectivo en el tiempo 0 (el valor inicial de la inversión), y los demás valores son los flujos en los períodos siguientes."
      ],
      "metadata": {
        "id": "yauQmDZ8a_6W"
      }
    },
    {
      "cell_type": "markdown",
      "source": [
        "## Pregunta 1"
      ],
      "metadata": {
        "id": "K04HlAmMYca1"
      }
    },
    {
      "cell_type": "markdown",
      "source": [
        "Una empresa evalúa un proyecto que requiere una inversión inicial de `$10,000`. Se espera que genere flujos de efectivo de `$3,000, $4,000, $5,000 y $6,000` durante los próximos cuatro años. Si la tasa de descuento esperada es del 10% anual, se desea calcular el Valor Actual Neto (VAN) del proyecto."
      ],
      "metadata": {
        "id": "mU_r9ujhYh6m"
      }
    },
    {
      "cell_type": "code",
      "source": [
        "inversion_inicial = 10000  # Inversión inicial en dólares (negativo porque es un desembolso)\n",
        "flujos = [-inversion_inicial, 3000, 4000, 5000, 6000]  # Flujos anuales\n",
        "tasa_descuento = 0.10  # Tasa de descuento anual\n",
        "\n",
        "# Calcular el VAN\n",
        "VAN = npf.npv(tasa_descuento, flujos)\n",
        "\n",
        "# Mostrar el VAN\n",
        "print(f\"El Valor Actual Neto (VAN) del proyecto es: ${VAN:.2f}\")"
      ],
      "metadata": {
        "colab": {
          "base_uri": "https://localhost:8080/"
        },
        "id": "8TIjNoA2YelN",
        "outputId": "21301251-86b0-4d21-d471-18e89ab07642"
      },
      "execution_count": 57,
      "outputs": [
        {
          "output_type": "stream",
          "name": "stdout",
          "text": [
            "El Valor Actual Neto (VAN) del proyecto es: $3887.71\n"
          ]
        }
      ]
    },
    {
      "cell_type": "markdown",
      "source": [
        "## Pregunta 2"
      ],
      "metadata": {
        "id": "eWqGMfQIYfld"
      }
    },
    {
      "cell_type": "markdown",
      "source": [
        "Una empresa planea adquirir una maquinaria con un costo inicial de `$20,000`. La maquinaria generará ingresos adicionales de `$7,000, $8,000 y $9,000` durante los próximos tres años. Si la tasa de descuento para proyectos de la empresa es del 12% anual, se desea determinar el VAN de esta inversión."
      ],
      "metadata": {
        "id": "l2f71sOmYq1X"
      }
    },
    {
      "cell_type": "code",
      "source": [
        "inversion_inicial = 20000  # Costo inicial de la maquinaria en dólares\n",
        "flujos = [-inversion_inicial, 7000, 8000, 9000]  # Flujos anuales\n",
        "tasa_descuento = 0.12  # Tasa de descuento anual\n",
        "\n",
        "# Calcular el VAN\n",
        "VAN = npf.npv(tasa_descuento, flujos)\n",
        "\n",
        "# Mostrar el VAN\n",
        "print(f\"El Valor Actual Neto (VAN) de la inversión es: ${VAN:.2f}\")"
      ],
      "metadata": {
        "id": "49AgNxDeYfle"
      },
      "execution_count": null,
      "outputs": []
    },
    {
      "cell_type": "markdown",
      "source": [
        "## Pregunta 3"
      ],
      "metadata": {
        "id": "mubu_tcrYfuY"
      }
    },
    {
      "cell_type": "markdown",
      "source": [
        "Una tienda está considerando expandir sus operaciones con una inversión inicial de `$30,000`. Se estima que los ingresos adicionales serán de `$10,000, $12,000, $15,000 y $20,000` durante los próximos cuatro años. Si la tasa de descuento es del 8% anual, se debe calcular el VAN de la expansión."
      ],
      "metadata": {
        "id": "lYaK_V3SY7c_"
      }
    },
    {
      "cell_type": "code",
      "source": [
        "inversion_inicial = 30000  # Inversión inicial en dólares\n",
        "flujos = [-inversion_inicial, 10000, 12000, 15000, 20000]  # Flujos anuales\n",
        "tasa_descuento = 0.08  # Tasa de descuento anual\n",
        "\n",
        "# Calcular el VAN\n",
        "VAN = npf.npv(tasa_descuento, flujos)\n",
        "\n",
        "# Mostrar el VAN\n",
        "print(f\"El Valor Actual Neto (VAN) de la expansión es: ${VAN:.2f}\")"
      ],
      "metadata": {
        "colab": {
          "base_uri": "https://localhost:8080/"
        },
        "id": "P1m-4hboYfuZ",
        "outputId": "9222549e-5028-4b45-919d-3550e0e1e49b"
      },
      "execution_count": 58,
      "outputs": [
        {
          "output_type": "stream",
          "name": "stdout",
          "text": [
            "El Valor Actual Neto (VAN) de la expansión es: $16155.41\n"
          ]
        }
      ]
    },
    {
      "cell_type": "markdown",
      "source": [
        "## Pregunta 4"
      ],
      "metadata": {
        "id": "BhPUM0yOYfx6"
      }
    },
    {
      "cell_type": "markdown",
      "source": [
        "Una empresa planea lanzar un nuevo producto al mercado. Para ello, necesita una inversión inicial de `$50,000`. Se espera que el producto genere ingresos netos de `$20,000, $25,000 y $30,000` durante los próximos tres años. La tasa de descuento esperada es del 10% anual. Se desea calcular el VAN del proyecto."
      ],
      "metadata": {
        "id": "nNGKYK_GZBtf"
      }
    },
    {
      "cell_type": "code",
      "source": [
        "inversion_inicial = 50000  # Inversión inicial en dólares\n",
        "flujos = [-inversion_inicial, 20000, 25000, 30000]  # Flujos anuales\n",
        "tasa_descuento = 0.10  # Tasa de descuento anual\n",
        "\n",
        "# Calcular el VAN\n",
        "VAN = npf.npv(tasa_descuento, flujos)\n",
        "\n",
        "# Mostrar el VAN\n",
        "print(f\"El Valor Actual Neto (VAN) del proyecto es: ${VAN:.2f}\")"
      ],
      "metadata": {
        "colab": {
          "base_uri": "https://localhost:8080/"
        },
        "id": "Eszfr6U6Yfx7",
        "outputId": "765d537f-35ae-4b09-b3ce-d66d1b5601e5"
      },
      "execution_count": 59,
      "outputs": [
        {
          "output_type": "stream",
          "name": "stdout",
          "text": [
            "El Valor Actual Neto (VAN) del proyecto es: $11382.42\n"
          ]
        }
      ]
    },
    {
      "cell_type": "markdown",
      "source": [
        "## Pregunta 5"
      ],
      "metadata": {
        "id": "LWVc8gLyYf7a"
      }
    },
    {
      "cell_type": "markdown",
      "source": [
        "Una empresa considera construir un almacén con un costo inicial de `$40,000`. Se proyectan ingresos netos de `$12,000, $15,000, $18,000 y $22,000` en los próximos cuatro años. Si la tasa de descuento es del 9% anual, se debe calcular el VAN del proyecto."
      ],
      "metadata": {
        "id": "snR6JyPhZNOv"
      }
    },
    {
      "cell_type": "code",
      "source": [
        "inversion_inicial = 40000  # Inversión inicial en dólares\n",
        "flujos = [-inversion_inicial, 12000, 15000, 18000, 22000]  # Flujos anuales\n",
        "tasa_descuento = 0.09  # Tasa de descuento anual\n",
        "\n",
        "# Calcular el VAN\n",
        "VAN = npf.npv(tasa_descuento, flujos)\n",
        "\n",
        "# Mostrar el VAN\n",
        "print(f\"El Valor Actual Neto (VAN) del proyecto es: ${VAN:.2f}\")"
      ],
      "metadata": {
        "colab": {
          "base_uri": "https://localhost:8080/"
        },
        "id": "omvWMCAtYf7a",
        "outputId": "f064cd2e-f0a8-4560-a22d-5b99354797c9"
      },
      "execution_count": 60,
      "outputs": [
        {
          "output_type": "stream",
          "name": "stdout",
          "text": [
            "El Valor Actual Neto (VAN) del proyecto es: $13119.03\n"
          ]
        }
      ]
    },
    {
      "cell_type": "markdown",
      "source": [
        "## Pregunta 6"
      ],
      "metadata": {
        "id": "FMhfZVzpYgcq"
      }
    },
    {
      "cell_type": "markdown",
      "source": [
        "Una empresa de logística planea renovar su flota de transporte con una inversión inicial de `$60,000`. Esta inversión generará ahorros anuales de `$18,000, $20,000, $25,000 y $30,000` en los próximos cuatro años. La tasa de descuento esperada es del 10% anual. Se busca calcular el VAN de la inversión."
      ],
      "metadata": {
        "id": "44Msq7B7ZUq3"
      }
    },
    {
      "cell_type": "code",
      "source": [
        "inversion_inicial = 60000  # Inversión inicial en dólares\n",
        "flujos = [-inversion_inicial, 18000, 20000, 25000, 30000]  # Ahorros anuales\n",
        "tasa_descuento = 0.10  # Tasa de descuento anual\n",
        "\n",
        "# Calcular el VAN\n",
        "VAN = npf.npv(tasa_descuento, flujos)\n",
        "\n",
        "# Mostrar el VAN\n",
        "print(f\"El Valor Actual Neto (VAN) de la inversión es: ${VAN:.2f}\")"
      ],
      "metadata": {
        "colab": {
          "base_uri": "https://localhost:8080/"
        },
        "id": "1tJDeLV9Ygcr",
        "outputId": "27ebf570-344f-48aa-eefb-c1d29810065f"
      },
      "execution_count": 61,
      "outputs": [
        {
          "output_type": "stream",
          "name": "stdout",
          "text": [
            "El Valor Actual Neto (VAN) de la inversión es: $12165.84\n"
          ]
        }
      ]
    },
    {
      "cell_type": "markdown",
      "source": [
        "## Pregunta 7"
      ],
      "metadata": {
        "id": "I7xk49fpZdQJ"
      }
    },
    {
      "cell_type": "markdown",
      "source": [
        "Una empresa desea automatizar un proceso de producción. Esto requiere una inversión inicial de `$25,000` y se espera que genere ingresos adicionales de `$8,000, $10,000, $12,000 y $15,000` en los próximos cuatro años. Si la tasa de descuento es del 11% anual, se debe calcular el VAN del proyecto."
      ],
      "metadata": {
        "id": "fd3JPDqLZdQJ"
      }
    },
    {
      "cell_type": "code",
      "source": [
        "inversion_inicial = 25000  # Inversión inicial en dólares\n",
        "flujos = [-inversion_inicial, 8000, 10000, 12000, 15000]  # Flujos anuales\n",
        "tasa_descuento = 0.11  # Tasa de descuento anual\n",
        "\n",
        "# Calcular el VAN\n",
        "VAN = npf.npv(tasa_descuento, flujos)\n",
        "\n",
        "# Mostrar el VAN\n",
        "print(f\"El Valor Actual Neto (VAN) del proyecto es: ${VAN:.2f}\")"
      ],
      "metadata": {
        "colab": {
          "base_uri": "https://localhost:8080/"
        },
        "outputId": "feea0232-de59-4531-8630-af9c73d1c74b",
        "id": "rzpV9qQpZdQK"
      },
      "execution_count": 62,
      "outputs": [
        {
          "output_type": "stream",
          "name": "stdout",
          "text": [
            "El Valor Actual Neto (VAN) del proyecto es: $8978.69\n"
          ]
        }
      ]
    },
    {
      "cell_type": "markdown",
      "source": [
        "## Pregunta 8"
      ],
      "metadata": {
        "id": "itgDCrdBZdQK"
      }
    },
    {
      "cell_type": "markdown",
      "source": [
        "Una empresa está considerando instalar paneles solares con un costo inicial de `$50,000`. Se estima que los ahorros en consumo eléctrico serán de `$12,000, $15,000, $18,000, $20,000 y $22,000` durante los próximos cinco años. Si la tasa de descuento es del 8% anual, calcule el VAN del proyecto."
      ],
      "metadata": {
        "id": "OVpRoCHqZdQK"
      }
    },
    {
      "cell_type": "code",
      "source": [
        "inversion_inicial = 50000  # Costo inicial en dólares\n",
        "flujos = [-inversion_inicial, 12000, 15000, 18000, 20000, 22000]  # Ahorros anuales\n",
        "tasa_descuento = 0.08  # Tasa de descuento anual\n",
        "\n",
        "# Calcular el VAN\n",
        "VAN = npf.npv(tasa_descuento, flujos)\n",
        "\n",
        "# Mostrar el VAN\n",
        "print(f\"El Valor Actual Neto (VAN) del proyecto es: ${VAN:.2f}\")"
      ],
      "metadata": {
        "colab": {
          "base_uri": "https://localhost:8080/"
        },
        "outputId": "a2f189ab-cfbf-4954-def1-80ac9b08c949",
        "id": "p_8-rO3sZdQK"
      },
      "execution_count": 63,
      "outputs": [
        {
          "output_type": "stream",
          "name": "stdout",
          "text": [
            "El Valor Actual Neto (VAN) del proyecto es: $17933.60\n"
          ]
        }
      ]
    },
    {
      "cell_type": "markdown",
      "source": [
        "# Tasa Interna de Retorno (TIR)"
      ],
      "metadata": {
        "id": "WrjH8L8bWKoG"
      }
    },
    {
      "cell_type": "markdown",
      "source": [
        "La **Tasa Interna de Retorno (TIR)** es la tasa de descuento que hace que el valor presente neto (VAN) de todos los flujos de efectivo de un proyecto o inversión sea igual a cero. En otras palabras, es la tasa a la cual la suma de los flujos de efectivo descontados es igual a la inversión inicial.\n",
        "\n",
        "La fórmula general de la TIR es la misma que la del VAN, pero en este caso, se resuelve para la tasa $ r $ que hace que el VAN sea igual a cero:\n",
        "\n",
        "$$\n",
        "0 = \\sum_{t=0}^{n} \\frac{C_t}{(1 + r)^t}\n",
        "$$\n",
        "\n",
        "Donde:\n",
        "- $C_t$ son los flujos de efectivo en el tiempo $t$ (pueden ser positivos o negativos).\n",
        "- $r$ es la TIR.\n",
        "- $n$ es el número total de períodos.\n",
        "\n",
        "### Funciones en `numpy_financial`\n",
        "\n",
        "En **`numpy_financial`**, la función utilizada para calcular la TIR es **`irr(values)`**, que devuelve la tasa interna de retorno de una serie de flujos de efectivo.\n",
        "\n",
        "#### **`irr(values)`**:\n",
        "\n",
        "Esta función calcula la **Tasa Interna de Retorno (TIR)** a partir de una serie de flujos de efectivo.\n",
        "\n",
        "- **`values`**: Una lista o arreglo de flujos de efectivo, donde el primer valor corresponde al flujo de efectivo en el tiempo 0 (la inversión inicial), y los demás valores son los flujos en los períodos siguientes.\n",
        "\n",
        "La TIR es útil para evaluar proyectos, ya que si la TIR es mayor que la tasa de descuento o la tasa mínima aceptable, el proyecto o inversión se considera rentable."
      ],
      "metadata": {
        "id": "hB0ILCBObU3x"
      }
    },
    {
      "cell_type": "markdown",
      "source": [
        "## Pregunta 1"
      ],
      "metadata": {
        "id": "iq_z0B4MWUxF"
      }
    },
    {
      "cell_type": "markdown",
      "source": [
        "Una concesionaria de automóviles ofrece un modelo cuyo precio de contado es `$20,000`. Si se adquiere al crédito, se paga una cuota inicial de `$5,000` y el saldo se financia en 24 cuotas mensuales iguales de `$800` cada una. Se desea calcular la Tasa Interna de Retorno (TIR), es decir, la Tasa Efectiva Mensual (TEM) implícita en este financiamiento."
      ],
      "metadata": {
        "id": "G0JIMkF6WuPO"
      }
    },
    {
      "cell_type": "code",
      "source": [
        "precio_contado = 20000  # Precio de contado en dólares\n",
        "cuota_inicial = 5000  # Cuota inicial en dólares\n",
        "cuota = 800  # Monto de las cuotas mensuales en dólares\n",
        "n_cuotas = 24  # Número de cuotas\n",
        "\n",
        "# Flujos de efectivo\n",
        "# Primer flujo es el monto financiado (negativo), seguido de 24 cuotas positivas.\n",
        "flujos = [- (precio_contado - cuota_inicial)] + [cuota] * n_cuotas\n",
        "\n",
        "# Calcular la TIR\n",
        "TEM = npf.irr(flujos)\n",
        "\n",
        "# Mostrar la TIR como porcentaje\n",
        "print(f\"La TIR o TEM implícita en el financiamiento es: {TEM * 100:.2f}%\")"
      ],
      "metadata": {
        "colab": {
          "base_uri": "https://localhost:8080/"
        },
        "id": "vzb_Z_64WW1m",
        "outputId": "39ffc99e-5f68-4009-bfdf-261c2204afe7"
      },
      "execution_count": 51,
      "outputs": [
        {
          "output_type": "stream",
          "name": "stdout",
          "text": [
            "La TIR o TEM implícita en el financiamiento es: 2.08%\n"
          ]
        }
      ]
    },
    {
      "cell_type": "markdown",
      "source": [
        "## Pregunta 2"
      ],
      "metadata": {
        "id": "kOv1hlXnWYYI"
      }
    },
    {
      "cell_type": "markdown",
      "source": [
        "Una empresa evalúa un proyecto que requiere una inversión inicial de `$10,000`. Este proyecto generará flujos de efectivo de `$3,000, $4,000, $5,000 y $6,000` al final de cada uno de los próximos cuatro años. Se desea calcular la Tasa Interna de Retorno (TIR) del proyecto para determinar si es"
      ],
      "metadata": {
        "id": "KrNkcozEXAT1"
      }
    },
    {
      "cell_type": "code",
      "source": [
        "inversion_inicial = 10000  # Inversión inicial en dólares (negativo porque es un desembolso)\n",
        "flujos = [-inversion_inicial, 3000, 4000, 5000, 6000]  # Flujos anuales\n",
        "\n",
        "# Calcular la TIR\n",
        "TIR_anual = npf.irr(flujos)\n",
        "\n",
        "# Mostrar la TIR como porcentaje\n",
        "print(f\"La TIR del proyecto es: {TIR_anual * 100:.2f}%\")"
      ],
      "metadata": {
        "colab": {
          "base_uri": "https://localhost:8080/"
        },
        "id": "pEl2NqyqWYYJ",
        "outputId": "727254fc-d9d7-41ac-c65f-95b31b26448f"
      },
      "execution_count": 52,
      "outputs": [
        {
          "output_type": "stream",
          "name": "stdout",
          "text": [
            "La TIR del proyecto es: 24.89%\n"
          ]
        }
      ]
    },
    {
      "cell_type": "markdown",
      "source": [
        "## Pregunta 3"
      ],
      "metadata": {
        "id": "nz1iyPsxWYie"
      }
    },
    {
      "cell_type": "markdown",
      "source": [
        "Un estudiante desea adquirir una computadora cuyo precio de contado es `$1,200`. El vendedor ofrece un plan de financiamiento con una cuota inicial de `$300` y 10 pagos mensuales de `$100` cada uno. Se desea calcular la Tasa Interna de Retorno (TIR) o Tasa Efectiva Mensual (TEM) implícita en este esquema."
      ],
      "metadata": {
        "id": "lR3l9iT0XQ39"
      }
    },
    {
      "cell_type": "code",
      "source": [
        "precio_contado = 1200  # Precio de contado en dólares\n",
        "cuota_inicial = 300  # Cuota inicial en dólares\n",
        "cuota = 100  # Pago mensual en dólares\n",
        "n_cuotas = 10  # Número de cuotas\n",
        "\n",
        "# Flujos de efectivo\n",
        "flujos = [- (precio_contado - cuota_inicial)] + [cuota] * n_cuotas\n",
        "\n",
        "# Calcular la TIR\n",
        "TEM = npf.irr(flujos)\n",
        "\n",
        "# Mostrar la TIR como porcentaje\n",
        "print(f\"La TIR o TEM implícita en el financiamiento es: {TEM * 100:.2f}%\")"
      ],
      "metadata": {
        "colab": {
          "base_uri": "https://localhost:8080/"
        },
        "id": "d8oVwXraWYif",
        "outputId": "d2a7c51f-0ba3-4d80-eadf-265e7a912f44"
      },
      "execution_count": 53,
      "outputs": [
        {
          "output_type": "stream",
          "name": "stdout",
          "text": [
            "La TIR o TEM implícita en el financiamiento es: 1.96%\n"
          ]
        }
      ]
    },
    {
      "cell_type": "markdown",
      "source": [
        "## Pregunta 4"
      ],
      "metadata": {
        "id": "QchedRHLWYmX"
      }
    },
    {
      "cell_type": "markdown",
      "source": [
        "Un emprendedor planea iniciar un negocio que requiere una inversión inicial de `$15,000`. Se proyectan flujos de efectivo de `$5,000, $6,000, $7,000 y $8,000` durante los próximos cuatro años. Se desea calcular la TIR del negocio para determinar su viabilidad financiera."
      ],
      "metadata": {
        "id": "fzHefE8jXatP"
      }
    },
    {
      "cell_type": "code",
      "source": [
        "inversion_inicial = 15000  # Inversión inicial en dólares (negativo porque es un desembolso)\n",
        "flujos = [-inversion_inicial, 5000, 6000, 7000, 8000]  # Flujos de efectivo proyectados\n",
        "\n",
        "# Calcular la TIR\n",
        "TIR_anual = npf.irr(flujos)\n",
        "\n",
        "# Mostrar la TIR como porcentaje\n",
        "print(f\"La TIR del negocio es: {TIR_anual * 100:.2f}%\")"
      ],
      "metadata": {
        "colab": {
          "base_uri": "https://localhost:8080/"
        },
        "id": "BC6cRQiAWYmX",
        "outputId": "461e9e03-5b1c-4916-87ac-24eff4ecc9fc"
      },
      "execution_count": 54,
      "outputs": [
        {
          "output_type": "stream",
          "name": "stdout",
          "text": [
            "La TIR del negocio es: 23.96%\n"
          ]
        }
      ]
    },
    {
      "cell_type": "markdown",
      "source": [
        "## Pregunta 5"
      ],
      "metadata": {
        "id": "jYNmzvQYWYrE"
      }
    },
    {
      "cell_type": "markdown",
      "source": [
        "Una persona decide financiar una motocicleta cuyo precio de contado es $8,000. Se paga una cuota inicial de $2,000, y el saldo restante se financia con 12 pagos mensuales de $600 cada uno. Se desea determinar la TIR (Tasa Efectiva Mensual) implícita en este financiamiento."
      ],
      "metadata": {
        "id": "eQuPt3xtXkHw"
      }
    },
    {
      "cell_type": "code",
      "source": [
        "precio_contado = 8000  # Precio de contado en dólares\n",
        "cuota_inicial = 2000  # Cuota inicial en dólares\n",
        "cuota = 600  # Pago mensual en dólares\n",
        "n_cuotas = 12  # Número de cuotas\n",
        "\n",
        "# Flujos de efectivo\n",
        "flujos = [- (precio_contado - cuota_inicial)] + [cuota] * n_cuotas\n",
        "\n",
        "# Calcular la TIR\n",
        "TEM = npf.irr(flujos)\n",
        "\n",
        "# Mostrar la TIR como porcentaje\n",
        "print(f\"La TIR o TEM implícita en el financiamiento es: {TEM * 100:.2f}%\")"
      ],
      "metadata": {
        "colab": {
          "base_uri": "https://localhost:8080/"
        },
        "id": "uPEAyJllWYrE",
        "outputId": "5dc48f9e-d69f-4e51-90f3-7769096f60eb"
      },
      "execution_count": 55,
      "outputs": [
        {
          "output_type": "stream",
          "name": "stdout",
          "text": [
            "La TIR o TEM implícita en el financiamiento es: 2.92%\n"
          ]
        }
      ]
    },
    {
      "cell_type": "markdown",
      "source": [
        "## Pregunta 6"
      ],
      "metadata": {
        "id": "E7UqgYNLWYua"
      }
    },
    {
      "cell_type": "markdown",
      "source": [
        "Una empresa desea implementar mejoras en su línea de producción con una inversión inicial de `$50,000`. Se espera que los ahorros generados sean de `$15,000, $20,000, $25,000 y $30,000` en los próximos cuatro años. Se busca calcular la TIR para analizar si la inversión es viable."
      ],
      "metadata": {
        "id": "heNE2EjbX_iO"
      }
    },
    {
      "cell_type": "code",
      "source": [
        "inversion_inicial = 50000  # Inversión inicial en dólares (negativo porque es un desembolso)\n",
        "flujos = [-inversion_inicial, 15000, 20000, 25000, 30000]  # Ahorros generados anualmente\n",
        "\n",
        "# Calcular la TIR\n",
        "TIR_anual = npf.irr(flujos)\n",
        "\n",
        "# Mostrar la TIR como porcentaje\n",
        "print(f\"La TIR del proyecto es: {TIR_anual * 100:.2f}%\")"
      ],
      "metadata": {
        "colab": {
          "base_uri": "https://localhost:8080/"
        },
        "id": "1FvwN59yWYua",
        "outputId": "46529f51-6c56-4008-9fb6-d795edf04c14"
      },
      "execution_count": 56,
      "outputs": [
        {
          "output_type": "stream",
          "name": "stdout",
          "text": [
            "La TIR del proyecto es: 24.89%\n"
          ]
        }
      ]
    }
  ]
}